{
 "cells": [
  {
   "cell_type": "code",
   "execution_count": 1,
   "id": "2fbad223",
   "metadata": {},
   "outputs": [],
   "source": [
    "#安裝套件\n",
    "import pandas as pd\n",
    "import os\n",
    "\n",
    "#更改檔案路徑\n",
    "os.chdir('C:\\\\Users\\\\ASUS\\\\Desktop\\\\data science\\\\data')\n"
   ]
  },
  {
   "cell_type": "code",
   "execution_count": 2,
   "id": "c54e934f",
   "metadata": {},
   "outputs": [],
   "source": [
    "#讀檔案\n",
    "#將NA都用0補起來\n",
    "data = pd.read_csv('IMDB-Movie-Data.csv').fillna(0)"
   ]
  },
  {
   "cell_type": "code",
   "execution_count": 64,
   "id": "daeca26a",
   "metadata": {},
   "outputs": [
    {
     "name": "stdout",
     "output_type": "stream",
     "text": [
      "(1)Top-3 movie with the highest ratings in 2016: ['Dangal']['Kimi no na wa']['Koe no katachi']"
     ]
    }
   ],
   "source": [
    "###(1)\n",
    "#將rating由大到小排列，由於set不會重複顯示重複的rating,所以可以得到前三名的rating\n",
    "rating=sorted(list(set(data[data['Year']==2016]['Rating'])),reverse=True)\n",
    "\n",
    "print('(1)Top-3 movie with the highest ratings in 2016: ',end='')\n",
    "\n",
    "for i in range(len(data[data['Year']==2016])): \n",
    "    #如果rating是在前三名就print出來\n",
    "    for j in range(3): \n",
    "        if data[data['Year']==2016]['Rating'].iloc[i]==rating[j]:\n",
    "            print([data[data['Year']==2016]['Title'].iloc[i]],end='')\n",
    "        "
   ]
  },
  {
   "cell_type": "code",
   "execution_count": 20,
   "id": "80ee3d48",
   "metadata": {},
   "outputs": [
    {
     "name": "stdout",
     "output_type": "stream",
     "text": [
      "(2)The actor generating the highest average revenue:['Daisy Ridley'][' John Boyega']"
     ]
    }
   ],
   "source": [
    "###(2)\n",
    "revenue = {}\n",
    "for i in range(len(data)):\n",
    "    for actor in data['Actors'][i].split('|'):\n",
    "        revenue[actor]=[]\n",
    "for i in range(len(data)):\n",
    "    for actor in data['Actors'][i].split('|'):\n",
    "            #將演員演過的電影的revenue找出來\n",
    "            revenue[actor].append(data['Revenue (Millions)'][i])\n",
    "#算出平均\n",
    "for key in revenue:\n",
    "    sum = 0\n",
    "    for i in range(len(revenue[key])):\n",
    "        sum += float(revenue[key][i])\n",
    "    average = sum/len(revenue[key]) \n",
    "    revenue[key]= '%6.2f' % (average)\n",
    "\n",
    "\n",
    "print('(2)The actor generating the highest average revenue:',end='')\n",
    "for key in revenue:\n",
    "    #可能會有同個revenue的狀況，將是最大值的數字都判斷出來\n",
    "    if revenue[key] == pd.Series(revenue).max():\n",
    "        print([key],end='')\n"
   ]
  },
  {
   "cell_type": "code",
   "execution_count": 66,
   "id": "3bc624f5",
   "metadata": {},
   "outputs": [
    {
     "name": "stdout",
     "output_type": "stream",
     "text": [
      "(3)The average rating of Emma Watson's movies: 7.175\n"
     ]
    }
   ],
   "source": [
    "###(3)\n",
    "#製造一個存rating的list\n",
    "rating=[]\n",
    "for i in range(len(data)):\n",
    "    if 'Emma Watson' in data['Actors'][i]:\n",
    "        #把有Emma Waston電影的rating存起來\n",
    "        rating.append(data['Rating'][i])\n",
    "#計算平均\n",
    "print('(3)The average rating of Emma Watson\\'s movies:',sum(rating)/len(rating))     "
   ]
  },
  {
   "cell_type": "code",
   "execution_count": 68,
   "id": "0a354cd7",
   "metadata": {},
   "outputs": [
    {
     "name": "stdout",
     "output_type": "stream",
     "text": [
      "(4)Top-3 directors who collaborate with the most actors:['M. Night Shyamalan'] ['Ridley Scott'] ['Paul W.S. Anderson'] "
     ]
    }
   ],
   "source": [
    "###(4)\n",
    "actor = {}\n",
    "for director in set(data['Director']):\n",
    "    actor[director]=[]\n",
    "\n",
    "for i in range(len(data)):\n",
    "    #列出所有導演\n",
    "    for director in set(data['Director']):\n",
    "        if director == data['Director'][i]:\n",
    "            for actors in data['Actors'][i].split('|'):\n",
    "                actor[director].append(actors)\n",
    "\n",
    "for key in actor:\n",
    "    #用Set避免重複計算\n",
    "    actor[key]=len(set(actor[key]))\n",
    "\n",
    "#由大到小排列出演員合作數量，用set排除重複的\n",
    "num_of_actor = sorted(list(set(pd.Series(actor))),reverse=True)\n",
    "\n",
    "print('(4)Top-3 directors who collaborate with the most actors:',end='')\n",
    "for key in actor:\n",
    "    for i in range(3):\n",
    "        #列出前三名\n",
    "        if actor[key] == num_of_actor[i]:\n",
    "            print([key],end=' ')"
   ]
  },
  {
   "cell_type": "code",
   "execution_count": 92,
   "id": "11800267",
   "metadata": {},
   "outputs": [
    {
     "name": "stdout",
     "output_type": "stream",
     "text": [
      "[' Anne Hathaway'] [' Hugh Jackman'] ['Tom Hanks'] [' Joel Edgerton'] [' Liev Schreiber'] ['Will Smith'] ['Jake Gyllenhaal'] ['Mark Wahlberg'] ['Jesse Eisenberg'] [' Michelle Monaghan'] ['Johnny Depp'] [' Rose Byrne'] [' Cillian Murphy'] "
     ]
    }
   ],
   "source": [
    "###(5)\n",
    "genre = {}\n",
    "for i in range(len(data)):\n",
    "    for actor in data['Actors'][i].split('|'):\n",
    "        genre[actor]=[]\n",
    "\n",
    "#在一部電影裡，actor&genre不單單只有一個，所以要先用split拆開\n",
    "for i in range(len(data)):\n",
    "    for actor in data['Actors'][i].split('|'):\n",
    "        for j in data['Genre'][i].split('|'):\n",
    "            genre[actor].append(j)\n",
    "#計算數量\n",
    "for key in genre:\n",
    "    genre[key]=len(set(genre[key]))\n",
    "\n",
    "#將演過類型數量由大到小排列\n",
    "num_of_genre = sorted(list(set(pd.Series(genre))),reverse=True)\n",
    "\n",
    "for key in genre:\n",
    "    for i in range(2):\n",
    "        #列出前二名\n",
    "        if genre[key] == num_of_genre[i]:\n",
    "            print([key],end=' ')"
   ]
  },
  {
   "cell_type": "code",
   "execution_count": 87,
   "id": "01fe2cd3",
   "metadata": {},
   "outputs": [
    {
     "name": "stdout",
     "output_type": "stream",
     "text": [
      "(6)Top-3 actors whose movies lead to the largest maximum gap of years: {'Will Smith', 'Denzel Washington', 'Russell Crowe', ' Judi Dench', ' Jack Davenport', 'Tom Hanks', ' Emily Blunt', ' Ben Kingsley', ' Toni Collette', ' Bob Balaban', ' Bryce Dallas Howard', ' Morgan Freeman', 'Anne Hathaway', ' Justin Theroux', ' Dustin Hoffman', ' Rachel Weisz', 'Tom Cruise', ' Chiwetel Ejiofor', ' Audrey Tautou', 'Luke Wilson', 'Jennifer Aniston', 'Gerard Butler', ' Jeremy Irons', 'Brad Pitt', ' Hugh Jackman', ' Jessica Biel', ' Michelle Monaghan', ' Scarlett Johansson', ' Ellen Burstyn', ' Jennifer Connelly', ' Paula Patton', ' Marion Cotillard', ' Maya Rudolph'}\n"
     ]
    }
   ],
   "source": [
    "###(6)\n",
    "year={}\n",
    "name=[]\n",
    "for i in range(len(data)):\n",
    "    for actor in data['Actors'][i].split('|'):\n",
    "        year[actor]=[]\n",
    "for i in range(len(data)):\n",
    "    for actor in data['Actors'][i].split('|'):\n",
    "            #將演員演過的電影的年分找出來\n",
    "            year[actor].append(data['Year'][i])\n",
    "#計算gap year\n",
    "for key in year:\n",
    "    year[key]=max(year[key])-min(year[key])\n",
    "\n",
    "for key in year:\n",
    "    #將是最大的gap year都判斷出來\n",
    "    if year[key] == pd.Series(year).max():\n",
    "        name.append(key)\n",
    "print('(6)Top-3 actors whose movies lead to the largest maximum gap of years:',set(name))"
   ]
  },
  {
   "cell_type": "code",
   "execution_count": 93,
   "id": "9d146fe9",
   "metadata": {},
   "outputs": [],
   "source": [
    "###(7)"
   ]
  },
  {
   "cell_type": "code",
   "execution_count": null,
   "id": "0f54b5b1",
   "metadata": {},
   "outputs": [],
   "source": []
  }
 ],
 "metadata": {
  "kernelspec": {
   "display_name": "Python 3",
   "language": "python",
   "name": "python3"
  },
  "language_info": {
   "codemirror_mode": {
    "name": "ipython",
    "version": 3
   },
   "file_extension": ".py",
   "mimetype": "text/x-python",
   "name": "python",
   "nbconvert_exporter": "python",
   "pygments_lexer": "ipython3",
   "version": "3.8.8"
  }
 },
 "nbformat": 4,
 "nbformat_minor": 5
}
